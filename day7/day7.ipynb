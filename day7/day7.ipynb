{
 "cells": [
  {
   "attachments": {},
   "cell_type": "markdown",
   "metadata": {},
   "source": [
    "--- Day 7: No Space Left On Device ---\n",
    "\n",
    "You can hear birds chirping and raindrops hitting leaves as the expedition proceeds. Occasionally, you can even hear much louder sounds in the distance; how big do the animals get out here, anyway?\n",
    "\n",
    "The device the Elves gave you has problems with more than just its communication system. You try to run a system update:\n",
    "\n",
    "$ system-update --please --pretty-please-with-sugar-on-top\n",
    "Error: No space left on device\n",
    "\n",
    "Perhaps you can delete some files to make space for the update?\n",
    "\n",
    "You browse around the filesystem to assess the situation and save the resulting terminal output (your puzzle input). For example:\n",
    "\n",
    "$ cd /\n",
    "$ ls\n",
    "dir a\n",
    "14848514 b.txt\n",
    "8504156 c.dat\n",
    "dir d\n",
    "$ cd a\n",
    "$ ls\n",
    "dir e\n",
    "29116 f\n",
    "2557 g\n",
    "62596 h.lst\n",
    "$ cd e\n",
    "$ ls\n",
    "584 i\n",
    "$ cd ..\n",
    "$ cd ..\n",
    "$ cd d\n",
    "$ ls\n",
    "4060174 j\n",
    "8033020 d.log\n",
    "5626152 d.ext\n",
    "7214296 k\n",
    "\n",
    "The filesystem consists of a tree of files (plain data) and directories (which can contain other directories or files). The outermost directory is called /. You can navigate around the filesystem, moving into or out of directories and listing the contents of the directory you're currently in.\n",
    "\n",
    "Within the terminal output, lines that begin with $ are commands you executed, very much like some modern computers:\n",
    "\n",
    "    cd means change directory. This changes which directory is the current directory, but the specific result depends on the argument:\n",
    "        cd x moves in one level: it looks in the current directory for the directory named x and makes it the current directory.\n",
    "        cd .. moves out one level: it finds the directory that contains the current directory, then makes that directory the current directory.\n",
    "        cd / switches the current directory to the outermost directory, /.\n",
    "    ls means list. It prints out all of the files and directories immediately contained by the current directory:\n",
    "        123 abc means that the current directory contains a file named abc with size 123.\n",
    "        dir xyz means that the current directory contains a directory named xyz.\n",
    "\n",
    "Given the commands and output in the example above, you can determine that the filesystem looks visually like this:\n",
    "\n",
    "- / (dir)\n",
    "  - a (dir)\n",
    "    - e (dir)\n",
    "      - i (file, size=584)\n",
    "    - f (file, size=29116)\n",
    "    - g (file, size=2557)\n",
    "    - h.lst (file, size=62596)\n",
    "  - b.txt (file, size=14848514)\n",
    "  - c.dat (file, size=8504156)\n",
    "  - d (dir)\n",
    "    - j (file, size=4060174)\n",
    "    - d.log (file, size=8033020)\n",
    "    - d.ext (file, size=5626152)\n",
    "    - k (file, size=7214296)\n",
    "\n",
    "Here, there are four directories: / (the outermost directory), a and d (which are in /), and e (which is in a). These directories also contain files of various sizes.\n",
    "\n",
    "Since the disk is full, your first step should probably be to find directories that are good candidates for deletion. To do this, you need to determine the total size of each directory. The total size of a directory is the sum of the sizes of the files it contains, directly or indirectly. (Directories themselves do not count as having any intrinsic size.)\n",
    "\n",
    "The total sizes of the directories above can be found as follows:\n",
    "\n",
    "    The total size of directory e is 584 because it contains a single file i of size 584 and no other directories.\n",
    "    The directory a has total size 94853 because it contains files f (size 29116), g (size 2557), and h.lst (size 62596), plus file i indirectly (a contains e which contains i).\n",
    "    Directory d has total size 24933642.\n",
    "    As the outermost directory, / contains every file. Its total size is 48381165, the sum of the size of every file.\n",
    "\n",
    "To begin, find all of the directories with a total size of at most 100000, then calculate the sum of their total sizes. In the example above, these directories are a and e; the sum of their total sizes is 95437 (94853 + 584). (As in this example, this process can count files more than once!)\n",
    "\n",
    "Find all of the directories with a total size of at most 100000. What is the sum of the total sizes of those directories?\n"
   ]
  },
  {
   "cell_type": "code",
   "execution_count": null,
   "metadata": {},
   "outputs": [],
   "source": [
    "# part 1\n",
    "commands = []\n",
    "with open('input.csv', 'r') as file:\n",
    "    for line in file:\n",
    "        commands.append(line.rstrip('\\n'))\n",
    "\n",
    "commands"
   ]
  },
  {
   "cell_type": "code",
   "execution_count": null,
   "metadata": {},
   "outputs": [],
   "source": [
    "curr_dir = None\n"
   ]
  }
 ],
 "metadata": {
  "kernelspec": {
   "display_name": "lewagon",
   "language": "python",
   "name": "python3"
  },
  "language_info": {
   "codemirror_mode": {
    "name": "ipython",
    "version": 3
   },
   "file_extension": ".py",
   "mimetype": "text/x-python",
   "name": "python",
   "nbconvert_exporter": "python",
   "pygments_lexer": "ipython3",
   "version": "3.10.6"
  },
  "orig_nbformat": 4,
  "vscode": {
   "interpreter": {
    "hash": "16b4835e24142232364563bab4cb2bc969433a116874a7eb5beed857e978e289"
   }
  }
 },
 "nbformat": 4,
 "nbformat_minor": 2
}
